{
 "cells": [
  {
   "cell_type": "markdown",
   "id": "8eb8154d",
   "metadata": {},
   "source": [
    "# Optimize baseline with quantization and pruning"
   ]
  },
  {
   "cell_type": "code",
   "execution_count": 1,
   "id": "5e7f6852",
   "metadata": {},
   "outputs": [],
   "source": [
    "import numpy as np\n",
    "import pandas as pd\n",
    "import keras\n",
    "import tensorflow as tf\n",
    "import cv2\n",
    "\n",
    "import warnings\n",
    "warnings.filterwarnings('ignore')"
   ]
  },
  {
   "cell_type": "code",
   "execution_count": 2,
   "id": "79e6c14f",
   "metadata": {},
   "outputs": [],
   "source": [
    "def tflite_predict(interp, sample, input_index, output_index):\n",
    "    \n",
    "    ''' lite model predict function'''\n",
    "    \n",
    "    interp.set_tensor(input_index, sample)\n",
    "    interp.invoke()\n",
    "    return interp.get_tensor(output_index)"
   ]
  },
  {
   "cell_type": "markdown",
   "id": "4ffb7a98",
   "metadata": {},
   "source": [
    "## Code of pruning and opt operations"
   ]
  },
  {
   "cell_type": "code",
   "execution_count": null,
   "id": "c2b00707",
   "metadata": {},
   "outputs": [],
   "source": [
    "prune_low_magnitude = tfmot.sparsity.keras.prune_low_magnitude\n",
    "\n",
    "batch_size = 16\n",
    "epochs = 32\n",
    "end_step = 28\n",
    "\n",
    "pruning_params = {\n",
    "    'pruning_schedule': tfmot.sparsity.keras.PolynomialDecay(\n",
    "        initial_sparsity=0.5,\n",
    "        final_sparsity=0.8,\n",
    "        begin_step=0,\n",
    "        end_step=end_step\n",
    "    )\n",
    "}\n",
    "\n",
    "model = keras.models.load_model('''there was some model''')\n",
    "model_prn = prune_low_magnitude(model, **pruning_params)\n",
    "\n",
    "model_prn.compile(\n",
    "    optimizer='adam',\n",
    "    loss=tf.keras.losses.BinaryCrossentropy(from_logits=True),\n",
    "    metrics=['accuracy']\n",
    ")\n",
    "\n",
    "logdir = tempfile.mkdtemp()\n",
    "\n",
    "callbacks = [\n",
    "    tfmot.sparsity.keras.UpdatePruningStep(),\n",
    "    tfmot.sparsity.keras.PruningSummaries(log_dir=logdir)\n",
    "]\n",
    "\n",
    "model_prn.fit(\n",
    "    imgs_train, y_imgs_train,\n",
    "    batch_size=batch_size, epochs=epochs,\n",
    "    callbacks=callbacks,\n",
    "    validation_data=[imgs_test, y_imgs_test]\n",
    ")"
   ]
  },
  {
   "cell_type": "markdown",
   "id": "76ef0fb4",
   "metadata": {},
   "source": [
    "    Baseline test accuracy: 0.9300000071525574\n",
    "    Pruned test accuracy: 0.9075000286102295\n"
   ]
  },
  {
   "cell_type": "markdown",
   "id": "0c49e114",
   "metadata": {},
   "source": [
    "then convert model into tflite format"
   ]
  },
  {
   "cell_type": "code",
   "execution_count": null,
   "id": "4ae34630",
   "metadata": {},
   "outputs": [],
   "source": [
    "converter = tf.lite.TFLiteConverter.from_keras_model(export_model)\n",
    "lite_model_prnd = converter.convert() # return a bite-file\n",
    "\n",
    "# save pruned lite version of model\n",
    "with open('tf_models/cnn_cifar_cars__prnd_lite/cnn_lite.tflite', 'wb') as f:\n",
    "    f.write(lite_model_prnd)"
   ]
  },
  {
   "cell_type": "code",
   "execution_count": null,
   "id": "a2aea5d4",
   "metadata": {},
   "outputs": [],
   "source": [
    "converter = tf.lite.TFLiteConverter.from_saved_model('tf_models/cnn_cifar_cars__prnd') # base on keras model\n",
    "\n",
    "def representative_dataset():\n",
    "    for data in tf.data.Dataset.from_tensor_slices((imgs_train)).batch(1).take(500):\n",
    "        yield [tf.dtypes.cast(data, tf.float32)]\n",
    "\n",
    "    # quantization\n",
    "converter.optimizations = [tf.lite.Optimize.DEFAULT]\n",
    "converter.target_spec.supported_types = [tf.float16]\n",
    "converter.representative_dataset = representative_dataset\n",
    "\n",
    "lq_model = converter.convert() # convert\n",
    "\n",
    "# save\n",
    "with open('tf_models/cnn_cifar_cars__prnd_lite/cnn_lite_quant.tflite', 'wb') as f:\n",
    "    f.write(lq_model)"
   ]
  },
  {
   "cell_type": "markdown",
   "id": "1390b9f9",
   "metadata": {},
   "source": [
    "### load this model"
   ]
  },
  {
   "cell_type": "code",
   "execution_count": 5,
   "id": "01b5bafc",
   "metadata": {},
   "outputs": [],
   "source": [
    "interp_lite = tf.lite.Interpreter('tf_models/cnn_cifar_cars__prnd_lite/cnn_lite_quant.tflite')\n",
    "interp_lite.allocate_tensors()\n",
    "\n",
    "input_details_lq = interp_lite.get_input_details()\n",
    "output_details_lq = interp_lite.get_output_details()\n",
    "input_index_lq = input_details_lq[0]['index']\n",
    "output_index_lq = output_details_lq[0]['index']"
   ]
  },
  {
   "cell_type": "markdown",
   "id": "11b605de",
   "metadata": {},
   "source": [
    "___"
   ]
  },
  {
   "cell_type": "markdown",
   "id": "17b4c224",
   "metadata": {},
   "source": [
    "# New processing time"
   ]
  },
  {
   "cell_type": "code",
   "execution_count": 3,
   "id": "7ae7a027",
   "metadata": {},
   "outputs": [],
   "source": [
    "VIDEO_PATH = '../../another_datasets/car_det_vids/traffic01.mp4'"
   ]
  },
  {
   "cell_type": "code",
   "execution_count": 6,
   "id": "3b1cb3c7",
   "metadata": {},
   "outputs": [
    {
     "name": "stdout",
     "output_type": "stream",
     "text": [
      "Wall time: 22.5 s\n"
     ]
    }
   ],
   "source": [
    "%%time\n",
    "video = cv2.VideoCapture(VIDEO_PATH)\n",
    "subs = cv2.createBackgroundSubtractorMOG2(history=100, varThreshold=240, detectShadows=10)\n",
    "\n",
    "stop = 0\n",
    "bxs = []\n",
    "while True:\n",
    "    \n",
    "    ok, frame = video.read()\n",
    "    if not ok:\n",
    "        break\n",
    "    mask = subs.apply(frame)\n",
    "    \n",
    "    '''find countours'''\n",
    "    \n",
    "    cs = cv2.findContours(mask, cv2.RETR_TREE, cv2.CHAIN_APPROX_SIMPLE)[1]\n",
    "    dets = []\n",
    "    cars_coors = []\n",
    "\n",
    "    for contour in cs:\n",
    "        area = cv2.contourArea(contour)\n",
    "\n",
    "        if area > 700:\n",
    "            x, y, w, h = cv2.boundingRect(contour)\n",
    "            \n",
    "            img = frame[y:y+h,x:x+w][...,::-1]\n",
    "            detd_imgs.append(img)\n",
    "            try:\n",
    "                img = cv2.resize(img, (32,32), interpolation=cv2.INTER_AREA)\n",
    "\n",
    "                # lite-quant model\n",
    "                pred = tflite_predict(interp_lite, img.reshape(-1,32,32,3).astype('float32'),\n",
    "                                      input_index=input_index_lq, output_index=output_index_lq)\n",
    "                if pred > .1:\n",
    "                    stop += 1\n",
    "                    cars_coors.append([x, y, w, h])\n",
    "                    \n",
    "            except:\n",
    "                pass\n",
    "\n",
    "            if w < 300 and h < 300:\n",
    "                dets.append([x, y, w, h])\n",
    "    \n",
    "    '''print mask area > 700 rectangle'''\n",
    "    for box in dets:\n",
    "        x, y, w, h = box\n",
    "        bxs.append(box)\n",
    "        cv2.rectangle(frame, (x, y), (x + w, y + h), (0, 255, 255), 1)\n",
    "        \n",
    "    '''print model detected rectangle'''\n",
    "    for car in cars_coors:\n",
    "        x, y, w, h = car\n",
    "        bxs.append(car)\n",
    "        cv2.rectangle(frame, (x, y), (x + w, y + h), (0, 0, 255), 2)\n",
    "    \n",
    "\n",
    "    \n",
    "    cv2.imshow('video', frame)\n",
    "\n",
    "    if cv2.waitKey(1) & 0xFF == ord(' '):\n",
    "        break\n",
    "    \n",
    "video.release()\n",
    "cv2.destroyAllWindows()"
   ]
  },
  {
   "cell_type": "markdown",
   "id": "b492edfb",
   "metadata": {},
   "source": [
    "### compare with old model"
   ]
  },
  {
   "cell_type": "code",
   "execution_count": 7,
   "id": "9cd53c35",
   "metadata": {},
   "outputs": [],
   "source": [
    "old_model = keras.models.load_model('tf_models/cnn_cifar_cars')\n",
    "\n",
    "old_model.compile(\n",
    "    optimizer='adam',\n",
    "    loss='binary_crossentropy',\n",
    "    metrics=['accuracy']\n",
    ")"
   ]
  },
  {
   "cell_type": "code",
   "execution_count": 8,
   "id": "05277029",
   "metadata": {},
   "outputs": [
    {
     "name": "stdout",
     "output_type": "stream",
     "text": [
      "Wall time: 1min 16s\n"
     ]
    }
   ],
   "source": [
    "%%time\n",
    "video = cv2.VideoCapture(VIDEO_PATH)\n",
    "subs = cv2.createBackgroundSubtractorMOG2(history=100, varThreshold=240, detectShadows=10)\n",
    "\n",
    "stop = 0\n",
    "bxs = []\n",
    "while True:\n",
    "    \n",
    "    ok, frame = video.read()\n",
    "    if not ok:\n",
    "        break\n",
    "    mask = subs.apply(frame)\n",
    "    \n",
    "    '''find countours'''\n",
    "    \n",
    "    cs = cv2.findContours(mask, cv2.RETR_TREE, cv2.CHAIN_APPROX_SIMPLE)[1]\n",
    "    dets = []\n",
    "    cars_coors = []\n",
    "\n",
    "    for contour in cs:\n",
    "        area = cv2.contourArea(contour)\n",
    "\n",
    "        if area > 700:\n",
    "            x, y, w, h = cv2.boundingRect(contour)\n",
    "            \n",
    "            img = frame[y:y+h,x:x+w][...,::-1]\n",
    "            detd_imgs.append(img)\n",
    "            try:\n",
    "                img = cv2.resize(img, (32,32), interpolation=cv2.INTER_AREA)\n",
    "\n",
    "                # keras model\n",
    "                pred = old_model.predict(img.reshape(-1,32,32,3).astype('float32'))\n",
    "                \n",
    "                if pred > .1:\n",
    "                    stop += 1\n",
    "                    cars_coors.append([x, y, w, h])\n",
    "                    \n",
    "            except:\n",
    "                pass\n",
    "\n",
    "            if w < 300 and h < 300:\n",
    "                dets.append([x, y, w, h])\n",
    "    \n",
    "    '''print mask area > 700 rectangle'''\n",
    "    for box in dets:\n",
    "        x, y, w, h = box\n",
    "        bxs.append(box)\n",
    "        cv2.rectangle(frame, (x, y), (x + w, y + h), (0, 255, 255), 1)\n",
    "        \n",
    "    '''print model detected rectangle'''\n",
    "    for car in cars_coors:\n",
    "        x, y, w, h = car\n",
    "        bxs.append(car)\n",
    "        cv2.rectangle(frame, (x, y), (x + w, y + h), (0, 0, 255), 2)\n",
    "    \n",
    "\n",
    "    \n",
    "    cv2.imshow('video', frame)\n",
    "\n",
    "    if cv2.waitKey(1) & 0xFF == ord(' '):\n",
    "        break\n",
    "    \n",
    "video.release()\n",
    "cv2.destroyAllWindows()"
   ]
  }
 ],
 "metadata": {
  "kernelspec": {
   "display_name": "Python 3 (ipykernel)",
   "language": "python",
   "name": "python3"
  },
  "language_info": {
   "codemirror_mode": {
    "name": "ipython",
    "version": 3
   },
   "file_extension": ".py",
   "mimetype": "text/x-python",
   "name": "python",
   "nbconvert_exporter": "python",
   "pygments_lexer": "ipython3",
   "version": "3.9.6"
  }
 },
 "nbformat": 4,
 "nbformat_minor": 5
}
